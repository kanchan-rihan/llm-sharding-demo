{
 "cells": [
  {
   "cell_type": "code",
   "execution_count": null,
   "id": "35ade508",
   "metadata": {},
   "outputs": [],
   "source": [
    "!brew install minikube     # install kubernetes\n",
    "!conda install -y requests # for http requests"
   ]
  },
  {
   "cell_type": "code",
   "execution_count": null,
   "id": "4154352a",
   "metadata": {},
   "outputs": [],
   "source": [
    "# Install Docker Desktop\n",
    "!brew install --cask docker"
   ]
  },
  {
   "cell_type": "code",
   "execution_count": null,
   "id": "012b3140",
   "metadata": {},
   "outputs": [],
   "source": [
    "# Start Kubernetes cluster on Docker\n",
    "!minikube start --driver=docker --cpus=8 --memory=16g"
   ]
  },
  {
   "cell_type": "code",
   "execution_count": null,
   "id": "f8df9322",
   "metadata": {},
   "outputs": [],
   "source": [
    "#Verify cluster\n",
    "!kubectl get nodes"
   ]
  },
  {
   "cell_type": "code",
   "execution_count": null,
   "id": "9655542f",
   "metadata": {},
   "outputs": [],
   "source": [
    "# Enable Metrics Server\n",
    "!minikube addons enable metrics-server"
   ]
  },
  {
   "cell_type": "code",
   "execution_count": null,
   "id": "972af845",
   "metadata": {},
   "outputs": [],
   "source": [
    "# In Jupyter notebook, make to run everything in a single shell session. Hence chaining of commands\n",
    "# Otherwise, kubectl will not find the images that were built in mikube docker env.\n",
    "!eval $(minikube docker-env) && \\\n",
    "docker build -t llm-sharding:latest . && \\\n",
    "docker images | grep llm-sharding && \\\n",
    "kubectl apply -f k8s/ && \\\n",
    "kubectl get pods"
   ]
  },
  {
   "cell_type": "code",
   "execution_count": null,
   "id": "52b7f257",
   "metadata": {},
   "outputs": [],
   "source": [
    "!kubectl get pods -o wide\n",
    "!kubectl get svc"
   ]
  },
  {
   "cell_type": "markdown",
   "id": "5accd966",
   "metadata": {
    "vscode": {
     "languageId": "xml"
    }
   },
   "source": []
  },
  {
   "cell_type": "code",
   "execution_count": null,
   "id": "a03cb3af",
   "metadata": {},
   "outputs": [],
   "source": [
    "# Run this command on terminal before executing below code\n",
    "# kubectl port-forward svc/llm-coordinator 5000:5000\n",
    "\n",
    "import requests\n",
    "\n",
    "# Define the coordinator service URL\n",
    "COORDINATOR_URL = \"http://127.0.0.1:5000/generate\"\n",
    "\n",
    "# Function to send a prompt and get output\n",
    "def generate_text(prompt: str, max_new_tokens: int = 20):\n",
    "    payload = {\"prompt\": prompt, \"max_new_tokens\": max_new_tokens}\n",
    "    try:\n",
    "        response = requests.post(COORDINATOR_URL, json=payload)\n",
    "        if response.status_code == 200:\n",
    "            return response.json()  # Expect JSON output from coordinator\n",
    "        else:\n",
    "            return f\"Error: {response.status_code} - {response.text}\"\n",
    "    except requests.exceptions.RequestException as e:\n",
    "        return f\"Request failed: {e}\"\n",
    "\n",
    "# Example usage\n",
    "prompt = \"Hi, \"\n",
    "output = generate_text(prompt, max_new_tokens=2)\n",
    "print(\"Prompt:\", prompt)\n",
    "print(\"Generated output:\", output)"
   ]
  }
 ],
 "metadata": {
  "kernelspec": {
   "display_name": "LLM_Inference",
   "language": "python",
   "name": "python3"
  },
  "language_info": {
   "codemirror_mode": {
    "name": "ipython",
    "version": 3
   },
   "file_extension": ".py",
   "mimetype": "text/x-python",
   "name": "python",
   "nbconvert_exporter": "python",
   "pygments_lexer": "ipython3",
   "version": "3.11.13"
  }
 },
 "nbformat": 4,
 "nbformat_minor": 5
}
